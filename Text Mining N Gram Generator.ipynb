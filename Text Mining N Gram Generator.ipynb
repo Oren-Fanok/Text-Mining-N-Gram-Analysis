{
 "cells": [
  {
   "cell_type": "markdown",
   "metadata": {},
   "source": [
    "## N-gram Text Generation"
   ]
  },
  {
   "cell_type": "code",
   "execution_count": 12,
   "metadata": {},
   "outputs": [],
   "source": [
    "import nltk\n",
    "import random\n",
    "\n",
    "\n",
    "from nltk.book import *\n",
    "from collections import Counter"
   ]
  },
  {
   "cell_type": "markdown",
   "metadata": {},
   "source": [
    "# Creating Bi Gram Function "
   ]
  },
  {
   "cell_type": "markdown",
   "metadata": {},
   "source": [
    "Below I will create a function that intakes a chosen Corpra from NLTK and generates bi grams from it."
   ]
  },
  {
   "cell_type": "code",
   "execution_count": 13,
   "metadata": {
    "scrolled": false
   },
   "outputs": [],
   "source": [
    "def generate_bigram_text(text,length=10,start=None) :\n",
    "    \n",
    "    text=[w.lower() for w in text if w.isalpha()]\n",
    "    \n",
    "    if not start:      \n",
    "        start_word = random.choice(text)\n",
    "    else:\n",
    "        start_word = start\n",
    "        \n",
    "    #print(start_word)\n",
    "    bigram = list(nltk.bigrams(text))\n",
    "    \n",
    "    ##save start word to results\n",
    "    results= []\n",
    "    results.append(start_word)\n",
    "    \n",
    "    ##Get your first list of bigrams that match the start word\n",
    "    bg_list = []\n",
    "    \n",
    "    for bg in bigram:\n",
    "        if bg[0] == start_word:\n",
    "            bg_list.append(bg)\n",
    "            \n",
    "    ##Choose a random bigram from the list of bigrams that had first words matching start word\n",
    "            \n",
    "    next_bigram = random.choice(bg_list)\n",
    "    #print(next_bigram)\n",
    "    bg_list.clear()\n",
    "            \n",
    "##append the second word from the randomly chosen bigram, to the results list\n",
    "            \n",
    "    results.append(next_bigram[1])\n",
    "\n",
    "            \n",
    "##complete the rest of the function within a while loop\n",
    "            \n",
    "    while len(results) <= length:\n",
    "        for bg in bigram:\n",
    "            if bg[0] == results[-1]:\n",
    "                bg_list.append(bg)\n",
    "                \n",
    "        next_bigram = random.choice(bg_list)\n",
    "        #print(next_bigram)\n",
    "        bg_list.clear()\n",
    "        results.append(next_bigram[1])\n",
    "    \n",
    "                \n",
    "            \n",
    "            #length -= 1\n",
    "            #if length == 0:break\n",
    "        #print(results)\n",
    "        \n",
    "    return(\" \".join(results))\n",
    "            \n",
    "\n",
    "\n"
   ]
  },
  {
   "cell_type": "markdown",
   "metadata": {},
   "source": [
    "# Results"
   ]
  },
  {
   "cell_type": "code",
   "execution_count": 16,
   "metadata": {
    "scrolled": true
   },
   "outputs": [
    {
     "data": {
      "text/plain": [
       "'her ideas other short whatever i am not often deficient sir'"
      ]
     },
     "execution_count": 16,
     "metadata": {},
     "output_type": "execute_result"
    }
   ],
   "source": [
    "generate_bigram_text(text2)"
   ]
  },
  {
   "cell_type": "code",
   "execution_count": 17,
   "metadata": {},
   "outputs": [
    {
     "data": {
      "text/plain": [
       "'has his email boy no mercy mercy mercy huh lol ty'"
      ]
     },
     "execution_count": 17,
     "metadata": {},
     "output_type": "execute_result"
    }
   ],
   "source": [
    "generate_bigram_text(text5)"
   ]
  },
  {
   "cell_type": "code",
   "execution_count": null,
   "metadata": {},
   "outputs": [],
   "source": []
  }
 ],
 "metadata": {
  "kernelspec": {
   "display_name": "Python 3 (ipykernel)",
   "language": "python",
   "name": "python3"
  },
  "language_info": {
   "codemirror_mode": {
    "name": "ipython",
    "version": 3
   },
   "file_extension": ".py",
   "mimetype": "text/x-python",
   "name": "python",
   "nbconvert_exporter": "python",
   "pygments_lexer": "ipython3",
   "version": "3.9.13"
  }
 },
 "nbformat": 4,
 "nbformat_minor": 1
}
